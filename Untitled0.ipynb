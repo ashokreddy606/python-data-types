{
  "nbformat": 4,
  "nbformat_minor": 0,
  "metadata": {
    "colab": {
      "provenance": [],
      "authorship_tag": "ABX9TyOEz6SCSSYhTKvpPhvQqVW8",
      "include_colab_link": true
    },
    "kernelspec": {
      "name": "python3",
      "display_name": "Python 3"
    },
    "language_info": {
      "name": "python"
    }
  },
  "cells": [
    {
      "cell_type": "markdown",
      "metadata": {
        "id": "view-in-github",
        "colab_type": "text"
      },
      "source": [
        "<a href=\"https://colab.research.google.com/github/ashokreddy606/python-data-types/blob/main/Untitled0.ipynb\" target=\"_parent\"><img src=\"https://colab.research.google.com/assets/colab-badge.svg\" alt=\"Open In Colab\"/></a>"
      ]
    },
    {
      "cell_type": "code",
      "execution_count": 2,
      "metadata": {
        "colab": {
          "base_uri": "https://localhost:8080/"
        },
        "id": "zmcE3Sd3guUC",
        "outputId": "9bb86f89-8180-4919-a630-20fb78f2a926"
      },
      "outputs": [
        {
          "output_type": "stream",
          "name": "stdout",
          "text": [
            "<class 'str'>\n",
            "<class 'int'>\n",
            "<class 'float'>\n",
            "<class 'bool'>\n",
            "<class 'str'>\n"
          ]
        }
      ],
      "source": [
        "name = 'ASHOK REDDY'\n",
        "\n",
        "age = 20\n",
        "\n",
        "height = 5.7\n",
        "\n",
        "trainer=False\n",
        "\n",
        "institution = 'Malla reddy university'\n",
        "\n",
        "print(type(name))\n",
        "print(type(age))\n",
        "print(type(height))\n",
        "print(type(trainer))\n",
        "print(type(institution))"
      ]
    },
    {
      "cell_type": "markdown",
      "source": [],
      "metadata": {
        "id": "zG6HBV_vivFh"
      }
    },
    {
      "cell_type": "code",
      "source": [
        "x = 34.56\n",
        "y = 3.5\n",
        "\n",
        "# Arithmetic operations\n",
        "print(x + y)\n",
        "print(x - y)\n",
        "print(x * y)\n",
        "print(x / y)\n",
        "print(x // y)\n",
        "print(x % y)\n",
        "print(x ** y)\n",
        "\n",
        "# Comparison operations\n",
        "print(x == y)\n",
        "print(x != y)\n",
        "print(x > y)\n",
        "print(x < y)\n",
        "print(x >= y)\n",
        "print(x <= y)\n",
        "\n",
        "# Logical operations\n",
        "print((x > y) and (x != y))\n",
        "print((x < y) or (x == y))\n",
        "print(not (x == y))\n",
        "\n"
      ],
      "metadata": {
        "colab": {
          "base_uri": "https://localhost:8080/"
        },
        "id": "_FhawNCWhK0U",
        "outputId": "084876c1-c766-429b-fedf-37c275504d9e"
      },
      "execution_count": 3,
      "outputs": [
        {
          "output_type": "stream",
          "name": "stdout",
          "text": [
            "38.06\n",
            "31.060000000000002\n",
            "120.96000000000001\n",
            "9.874285714285715\n",
            "9.0\n",
            "3.0600000000000023\n",
            "242665.51770697304\n",
            "False\n",
            "True\n",
            "True\n",
            "False\n",
            "True\n",
            "False\n",
            "True\n",
            "False\n",
            "True\n"
          ]
        }
      ]
    }
  ]
}