{
 "cells": [
  {
   "cell_type": "code",
   "execution_count": 2,
   "id": "e209148c",
   "metadata": {},
   "outputs": [
    {
     "data": {
      "text/plain": [
       "5"
      ]
     },
     "execution_count": 2,
     "metadata": {},
     "output_type": "execute_result"
    }
   ],
   "source": [
    "x=5\n",
    "while x>10:\n",
    "    print(\"data\")\n",
    "x"
   ]
  },
  {
   "cell_type": "code",
   "execution_count": 3,
   "id": "2e72d6f7",
   "metadata": {},
   "outputs": [
    {
     "data": {
      "text/plain": [
       "[40, 20, 80, 50, 30, 60, 90]"
      ]
     },
     "execution_count": 3,
     "metadata": {},
     "output_type": "execute_result"
    }
   ],
   "source": [
    "y=[40,20,80,50,30,60,90]\n",
    "y"
   ]
  },
  {
   "cell_type": "code",
   "execution_count": 4,
   "id": "bf4b1938",
   "metadata": {},
   "outputs": [
    {
     "name": "stdout",
     "output_type": "stream",
     "text": [
      "[40, 20, 80, 50, 30, 60, 90]\n"
     ]
    }
   ],
   "source": [
    "print(y)"
   ]
  },
  {
   "cell_type": "code",
   "execution_count": 5,
   "id": "0e27cefd",
   "metadata": {},
   "outputs": [
    {
     "name": "stdout",
     "output_type": "stream",
     "text": [
      "3400\n",
      "1700\n",
      "6800\n",
      "4250\n",
      "2550\n",
      "5100\n",
      "7650\n"
     ]
    }
   ],
   "source": [
    "for t in y:\n",
    "    print(t*85)"
   ]
  },
  {
   "cell_type": "code",
   "execution_count": 6,
   "id": "7441b958",
   "metadata": {},
   "outputs": [
    {
     "data": {
      "text/plain": [
       "[40,\n",
       " 20,\n",
       " 80,\n",
       " 50,\n",
       " 30,\n",
       " 60,\n",
       " 90,\n",
       " 40,\n",
       " 20,\n",
       " 80,\n",
       " 50,\n",
       " 30,\n",
       " 60,\n",
       " 90,\n",
       " 40,\n",
       " 20,\n",
       " 80,\n",
       " 50,\n",
       " 30,\n",
       " 60,\n",
       " 90,\n",
       " 40,\n",
       " 20,\n",
       " 80,\n",
       " 50,\n",
       " 30,\n",
       " 60,\n",
       " 90,\n",
       " 40,\n",
       " 20,\n",
       " 80,\n",
       " 50,\n",
       " 30,\n",
       " 60,\n",
       " 90,\n",
       " 40,\n",
       " 20,\n",
       " 80,\n",
       " 50,\n",
       " 30,\n",
       " 60,\n",
       " 90,\n",
       " 40,\n",
       " 20,\n",
       " 80,\n",
       " 50,\n",
       " 30,\n",
       " 60,\n",
       " 90,\n",
       " 40,\n",
       " 20,\n",
       " 80,\n",
       " 50,\n",
       " 30,\n",
       " 60,\n",
       " 90,\n",
       " 40,\n",
       " 20,\n",
       " 80,\n",
       " 50,\n",
       " 30,\n",
       " 60,\n",
       " 90,\n",
       " 40,\n",
       " 20,\n",
       " 80,\n",
       " 50,\n",
       " 30,\n",
       " 60,\n",
       " 90,\n",
       " 40,\n",
       " 20,\n",
       " 80,\n",
       " 50,\n",
       " 30,\n",
       " 60,\n",
       " 90,\n",
       " 40,\n",
       " 20,\n",
       " 80,\n",
       " 50,\n",
       " 30,\n",
       " 60,\n",
       " 90,\n",
       " 40,\n",
       " 20,\n",
       " 80,\n",
       " 50,\n",
       " 30,\n",
       " 60,\n",
       " 90,\n",
       " 40,\n",
       " 20,\n",
       " 80,\n",
       " 50,\n",
       " 30,\n",
       " 60,\n",
       " 90,\n",
       " 40,\n",
       " 20,\n",
       " 80,\n",
       " 50,\n",
       " 30,\n",
       " 60,\n",
       " 90,\n",
       " 40,\n",
       " 20,\n",
       " 80,\n",
       " 50,\n",
       " 30,\n",
       " 60,\n",
       " 90,\n",
       " 40,\n",
       " 20,\n",
       " 80,\n",
       " 50,\n",
       " 30,\n",
       " 60,\n",
       " 90,\n",
       " 40,\n",
       " 20,\n",
       " 80,\n",
       " 50,\n",
       " 30,\n",
       " 60,\n",
       " 90,\n",
       " 40,\n",
       " 20,\n",
       " 80,\n",
       " 50,\n",
       " 30,\n",
       " 60,\n",
       " 90,\n",
       " 40,\n",
       " 20,\n",
       " 80,\n",
       " 50,\n",
       " 30,\n",
       " 60,\n",
       " 90,\n",
       " 40,\n",
       " 20,\n",
       " 80,\n",
       " 50,\n",
       " 30,\n",
       " 60,\n",
       " 90,\n",
       " 40,\n",
       " 20,\n",
       " 80,\n",
       " 50,\n",
       " 30,\n",
       " 60,\n",
       " 90,\n",
       " 40,\n",
       " 20,\n",
       " 80,\n",
       " 50,\n",
       " 30,\n",
       " 60,\n",
       " 90,\n",
       " 40,\n",
       " 20,\n",
       " 80,\n",
       " 50,\n",
       " 30,\n",
       " 60,\n",
       " 90,\n",
       " 40,\n",
       " 20,\n",
       " 80,\n",
       " 50,\n",
       " 30,\n",
       " 60,\n",
       " 90,\n",
       " 40,\n",
       " 20,\n",
       " 80,\n",
       " 50,\n",
       " 30,\n",
       " 60,\n",
       " 90,\n",
       " 40,\n",
       " 20,\n",
       " 80,\n",
       " 50,\n",
       " 30,\n",
       " 60,\n",
       " 90,\n",
       " 40,\n",
       " 20,\n",
       " 80,\n",
       " 50,\n",
       " 30,\n",
       " 60,\n",
       " 90,\n",
       " 40,\n",
       " 20,\n",
       " 80,\n",
       " 50,\n",
       " 30,\n",
       " 60,\n",
       " 90,\n",
       " 40,\n",
       " 20,\n",
       " 80,\n",
       " 50,\n",
       " 30,\n",
       " 60,\n",
       " 90,\n",
       " 40,\n",
       " 20,\n",
       " 80,\n",
       " 50,\n",
       " 30,\n",
       " 60,\n",
       " 90,\n",
       " 40,\n",
       " 20,\n",
       " 80,\n",
       " 50,\n",
       " 30,\n",
       " 60,\n",
       " 90,\n",
       " 40,\n",
       " 20,\n",
       " 80,\n",
       " 50,\n",
       " 30,\n",
       " 60,\n",
       " 90,\n",
       " 40,\n",
       " 20,\n",
       " 80,\n",
       " 50,\n",
       " 30,\n",
       " 60,\n",
       " 90,\n",
       " 40,\n",
       " 20,\n",
       " 80,\n",
       " 50,\n",
       " 30,\n",
       " 60,\n",
       " 90,\n",
       " 40,\n",
       " 20,\n",
       " 80,\n",
       " 50,\n",
       " 30,\n",
       " 60,\n",
       " 90,\n",
       " 40,\n",
       " 20,\n",
       " 80,\n",
       " 50,\n",
       " 30,\n",
       " 60,\n",
       " 90,\n",
       " 40,\n",
       " 20,\n",
       " 80,\n",
       " 50,\n",
       " 30,\n",
       " 60,\n",
       " 90,\n",
       " 40,\n",
       " 20,\n",
       " 80,\n",
       " 50,\n",
       " 30,\n",
       " 60,\n",
       " 90,\n",
       " 40,\n",
       " 20,\n",
       " 80,\n",
       " 50,\n",
       " 30,\n",
       " 60,\n",
       " 90,\n",
       " 40,\n",
       " 20,\n",
       " 80,\n",
       " 50,\n",
       " 30,\n",
       " 60,\n",
       " 90,\n",
       " 40,\n",
       " 20,\n",
       " 80,\n",
       " 50,\n",
       " 30,\n",
       " 60,\n",
       " 90,\n",
       " 40,\n",
       " 20,\n",
       " 80,\n",
       " 50,\n",
       " 30,\n",
       " 60,\n",
       " 90,\n",
       " 40,\n",
       " 20,\n",
       " 80,\n",
       " 50,\n",
       " 30,\n",
       " 60,\n",
       " 90,\n",
       " 40,\n",
       " 20,\n",
       " 80,\n",
       " 50,\n",
       " 30,\n",
       " 60,\n",
       " 90,\n",
       " 40,\n",
       " 20,\n",
       " 80,\n",
       " 50,\n",
       " 30,\n",
       " 60,\n",
       " 90,\n",
       " 40,\n",
       " 20,\n",
       " 80,\n",
       " 50,\n",
       " 30,\n",
       " 60,\n",
       " 90,\n",
       " 40,\n",
       " 20,\n",
       " 80,\n",
       " 50,\n",
       " 30,\n",
       " 60,\n",
       " 90,\n",
       " 40,\n",
       " 20,\n",
       " 80,\n",
       " 50,\n",
       " 30,\n",
       " 60,\n",
       " 90,\n",
       " 40,\n",
       " 20,\n",
       " 80,\n",
       " 50,\n",
       " 30,\n",
       " 60,\n",
       " 90,\n",
       " 40,\n",
       " 20,\n",
       " 80,\n",
       " 50,\n",
       " 30,\n",
       " 60,\n",
       " 90,\n",
       " 40,\n",
       " 20,\n",
       " 80,\n",
       " 50,\n",
       " 30,\n",
       " 60,\n",
       " 90,\n",
       " 40,\n",
       " 20,\n",
       " 80,\n",
       " 50,\n",
       " 30,\n",
       " 60,\n",
       " 90,\n",
       " 40,\n",
       " 20,\n",
       " 80,\n",
       " 50,\n",
       " 30,\n",
       " 60,\n",
       " 90,\n",
       " 40,\n",
       " 20,\n",
       " 80,\n",
       " 50,\n",
       " 30,\n",
       " 60,\n",
       " 90,\n",
       " 40,\n",
       " 20,\n",
       " 80,\n",
       " 50,\n",
       " 30,\n",
       " 60,\n",
       " 90,\n",
       " 40,\n",
       " 20,\n",
       " 80,\n",
       " 50,\n",
       " 30,\n",
       " 60,\n",
       " 90,\n",
       " 40,\n",
       " 20,\n",
       " 80,\n",
       " 50,\n",
       " 30,\n",
       " 60,\n",
       " 90,\n",
       " 40,\n",
       " 20,\n",
       " 80,\n",
       " 50,\n",
       " 30,\n",
       " 60,\n",
       " 90,\n",
       " 40,\n",
       " 20,\n",
       " 80,\n",
       " 50,\n",
       " 30,\n",
       " 60,\n",
       " 90,\n",
       " 40,\n",
       " 20,\n",
       " 80,\n",
       " 50,\n",
       " 30,\n",
       " 60,\n",
       " 90,\n",
       " 40,\n",
       " 20,\n",
       " 80,\n",
       " 50,\n",
       " 30,\n",
       " 60,\n",
       " 90,\n",
       " 40,\n",
       " 20,\n",
       " 80,\n",
       " 50,\n",
       " 30,\n",
       " 60,\n",
       " 90,\n",
       " 40,\n",
       " 20,\n",
       " 80,\n",
       " 50,\n",
       " 30,\n",
       " 60,\n",
       " 90,\n",
       " 40,\n",
       " 20,\n",
       " 80,\n",
       " 50,\n",
       " 30,\n",
       " 60,\n",
       " 90,\n",
       " 40,\n",
       " 20,\n",
       " 80,\n",
       " 50,\n",
       " 30,\n",
       " 60,\n",
       " 90,\n",
       " 40,\n",
       " 20,\n",
       " 80,\n",
       " 50,\n",
       " 30,\n",
       " 60,\n",
       " 90,\n",
       " 40,\n",
       " 20,\n",
       " 80,\n",
       " 50,\n",
       " 30,\n",
       " 60,\n",
       " 90,\n",
       " 40,\n",
       " 20,\n",
       " 80,\n",
       " 50,\n",
       " 30,\n",
       " 60,\n",
       " 90,\n",
       " 40,\n",
       " 20,\n",
       " 80,\n",
       " 50,\n",
       " 30,\n",
       " 60,\n",
       " 90,\n",
       " 40,\n",
       " 20,\n",
       " 80,\n",
       " 50,\n",
       " 30,\n",
       " 60,\n",
       " 90,\n",
       " 40,\n",
       " 20,\n",
       " 80,\n",
       " 50,\n",
       " 30,\n",
       " 60,\n",
       " 90,\n",
       " 40,\n",
       " 20,\n",
       " 80,\n",
       " 50,\n",
       " 30,\n",
       " 60,\n",
       " 90,\n",
       " 40,\n",
       " 20,\n",
       " 80,\n",
       " 50,\n",
       " 30,\n",
       " 60,\n",
       " 90,\n",
       " 40,\n",
       " 20,\n",
       " 80,\n",
       " 50,\n",
       " 30,\n",
       " 60,\n",
       " 90,\n",
       " 40,\n",
       " 20,\n",
       " 80,\n",
       " 50,\n",
       " 30,\n",
       " 60,\n",
       " 90,\n",
       " 40,\n",
       " 20,\n",
       " 80,\n",
       " 50,\n",
       " 30,\n",
       " 60,\n",
       " 90,\n",
       " 40,\n",
       " 20,\n",
       " 80,\n",
       " 50,\n",
       " 30,\n",
       " 60,\n",
       " 90,\n",
       " 40,\n",
       " 20,\n",
       " 80,\n",
       " 50,\n",
       " 30,\n",
       " 60,\n",
       " 90,\n",
       " 40,\n",
       " 20,\n",
       " 80,\n",
       " 50,\n",
       " 30,\n",
       " 60,\n",
       " 90,\n",
       " 40,\n",
       " 20,\n",
       " 80,\n",
       " 50,\n",
       " 30,\n",
       " 60,\n",
       " 90,\n",
       " 40,\n",
       " 20,\n",
       " 80,\n",
       " 50,\n",
       " 30,\n",
       " 60,\n",
       " 90,\n",
       " 40,\n",
       " 20,\n",
       " 80,\n",
       " 50,\n",
       " 30,\n",
       " 60,\n",
       " 90,\n",
       " 40,\n",
       " 20,\n",
       " 80,\n",
       " 50,\n",
       " 30,\n",
       " 60,\n",
       " 90,\n",
       " 40,\n",
       " 20,\n",
       " 80,\n",
       " 50,\n",
       " 30,\n",
       " 60,\n",
       " 90]"
      ]
     },
     "execution_count": 6,
     "metadata": {},
     "output_type": "execute_result"
    }
   ],
   "source": [
    "y*85"
   ]
  },
  {
   "cell_type": "code",
   "execution_count": 7,
   "id": "0063e60f",
   "metadata": {},
   "outputs": [
    {
     "data": {
      "text/plain": [
       "201"
      ]
     },
     "execution_count": 7,
     "metadata": {},
     "output_type": "execute_result"
    }
   ],
   "source": [
    "40*5+1"
   ]
  },
  {
   "cell_type": "code",
   "execution_count": 8,
   "id": "dd87c80b",
   "metadata": {},
   "outputs": [
    {
     "data": {
      "text/plain": [
       "210"
      ]
     },
     "execution_count": 8,
     "metadata": {},
     "output_type": "execute_result"
    }
   ],
   "source": [
    "40*5+10"
   ]
  },
  {
   "cell_type": "code",
   "execution_count": 9,
   "id": "4984010d",
   "metadata": {},
   "outputs": [
    {
     "name": "stdout",
     "output_type": "stream",
     "text": [
      "210\n"
     ]
    }
   ],
   "source": [
    "print(40*5+10)"
   ]
  },
  {
   "cell_type": "code",
   "execution_count": 10,
   "id": "eb768d1d",
   "metadata": {},
   "outputs": [
    {
     "name": "stdout",
     "output_type": "stream",
     "text": [
      "110\n"
     ]
    }
   ],
   "source": [
    "print(20*5+10)"
   ]
  },
  {
   "cell_type": "code",
   "execution_count": 18,
   "id": "d1e4cff4",
   "metadata": {},
   "outputs": [],
   "source": [
    "z=[]\n",
    "for i in y:\n",
    " z.append(i*5+10)"
   ]
  },
  {
   "cell_type": "code",
   "execution_count": 19,
   "id": "0b26139b",
   "metadata": {},
   "outputs": [
    {
     "data": {
      "text/plain": [
       "[210, 110, 410, 260, 160, 310, 460]"
      ]
     },
     "execution_count": 19,
     "metadata": {},
     "output_type": "execute_result"
    }
   ],
   "source": [
    "z"
   ]
  },
  {
   "cell_type": "code",
   "execution_count": 20,
   "id": "a161a20f",
   "metadata": {},
   "outputs": [
    {
     "data": {
      "text/plain": [
       "[31, 45, 66, 33, 90, 78, 676, 87, 89, 93, 25, 59, 9, 81]"
      ]
     },
     "execution_count": 20,
     "metadata": {},
     "output_type": "execute_result"
    }
   ],
   "source": [
    "num=[31,45,66,33,90,78,676,87,89,93,25,59,9,81]\n",
    "num"
   ]
  },
  {
   "cell_type": "code",
   "execution_count": 29,
   "id": "6e7d0c1d",
   "metadata": {},
   "outputs": [
    {
     "name": "stdout",
     "output_type": "stream",
     "text": [
      "Even numbers: [66, 90, 78, 676]\n",
      "Odd numbers: [31, 45, 33, 87, 89, 93, 25, 59, 9, 81]\n"
     ]
    }
   ],
   "source": [
    "num = [31, 45, 66, 33, 90, 78, 676, 87, 89, 93, 25, 59, 9, 81]\n",
    "even = [n for n in num if n % 2 == 0]\n",
    "odd = [n for n in num if n % 2 != 0]\n",
    "print(\"Even numbers:\", even)\n",
    "print(\"Odd numbers:\", odd)"
   ]
  },
  {
   "cell_type": "code",
   "execution_count": 30,
   "id": "aac06f8a",
   "metadata": {},
   "outputs": [
    {
     "data": {
      "text/plain": [
       "[31, 45, 66, 33, 90, 78, 676, 87, 89, 93, 25, 59, 9, 81]"
      ]
     },
     "execution_count": 30,
     "metadata": {},
     "output_type": "execute_result"
    }
   ],
   "source": [
    "num"
   ]
  },
  {
   "cell_type": "code",
   "execution_count": 35,
   "id": "b459e43d",
   "metadata": {},
   "outputs": [],
   "source": [
    "num=[12,13,14,15,16,17,18,19]\n",
    "j=[]\n",
    "k=[]\n",
    "for i in num:\n",
    "     if i%2==0:\n",
    "       j.append(i)\n",
    "else:\n",
    "        k.append(i)"
   ]
  },
  {
   "cell_type": "code",
   "execution_count": 36,
   "id": "cce8389a",
   "metadata": {},
   "outputs": [
    {
     "data": {
      "text/plain": [
       "[12, 14, 16, 18]"
      ]
     },
     "execution_count": 36,
     "metadata": {},
     "output_type": "execute_result"
    }
   ],
   "source": [
    "j"
   ]
  },
  {
   "cell_type": "code",
   "execution_count": 37,
   "id": "fac59d5d",
   "metadata": {},
   "outputs": [
    {
     "data": {
      "text/plain": [
       "[19]"
      ]
     },
     "execution_count": 37,
     "metadata": {},
     "output_type": "execute_result"
    }
   ],
   "source": [
    "k"
   ]
  },
  {
   "cell_type": "code",
   "execution_count": 42,
   "id": "fe655f3f",
   "metadata": {},
   "outputs": [
    {
     "name": "stdout",
     "output_type": "stream",
     "text": [
      "{30: 'a', 31: 'new_value', 32: 'another_value', 33: 'd', 34: 'e'}\n"
     ]
    }
   ],
   "source": [
    "num = {30: \"a\", 31: \"b\", 32: \"c\", 33: \"d\", 34: \"e\"}\n",
    "num.update({31: \"new_value\", 32: \"another_value\"})\n",
    "print(num)\n"
   ]
  },
  {
   "cell_type": "code",
   "execution_count": 50,
   "id": "98fccc4b",
   "metadata": {},
   "outputs": [
    {
     "data": {
      "text/plain": [
       "[31, 45, 66, 33, 90, 78, 676, 87, 89, 93, 25, 59, 9, 81]"
      ]
     },
     "execution_count": 50,
     "metadata": {},
     "output_type": "execute_result"
    }
   ],
   "source": [
    "h=[31,45,66,33,90,78,676,87,89,93,25,59,9,81]\n",
    "h"
   ]
  },
  {
   "cell_type": "code",
   "execution_count": 52,
   "id": "0ec0908f",
   "metadata": {},
   "outputs": [],
   "source": [
    "h=[]\n",
    "for i in num:\n",
    " a=str(i)\n",
    " b=a.replace('31','35')\n",
    " c=int(b)\n",
    " h.append(c)"
   ]
  },
  {
   "cell_type": "code",
   "execution_count": 53,
   "id": "ace73149",
   "metadata": {},
   "outputs": [
    {
     "data": {
      "text/plain": [
       "[35, 45, 66, 33, 90, 78, 676, 87, 89, 93, 25, 59, 9, 81]"
      ]
     },
     "execution_count": 53,
     "metadata": {},
     "output_type": "execute_result"
    }
   ],
   "source": [
    "h"
   ]
  },
  {
   "cell_type": "code",
   "execution_count": null,
   "id": "90a119de",
   "metadata": {},
   "outputs": [],
   "source": []
  }
 ],
 "metadata": {
  "kernelspec": {
   "display_name": "Python 3 (ipykernel)",
   "language": "python",
   "name": "python3"
  },
  "language_info": {
   "codemirror_mode": {
    "name": "ipython",
    "version": 3
   },
   "file_extension": ".py",
   "mimetype": "text/x-python",
   "name": "python",
   "nbconvert_exporter": "python",
   "pygments_lexer": "ipython3",
   "version": "3.11.5"
  }
 },
 "nbformat": 4,
 "nbformat_minor": 5
}
