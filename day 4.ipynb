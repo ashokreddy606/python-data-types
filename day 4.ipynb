{
 "cells": [
  {
   "cell_type": "code",
   "execution_count": 1,
   "id": "65f71750",
   "metadata": {},
   "outputs": [
    {
     "data": {
      "text/plain": [
       "(90, 70, 50, 30, 30, 101, 23, 76, 60, 20, 20, 20, 20, 30, 40, 50)"
      ]
     },
     "execution_count": 1,
     "metadata": {},
     "output_type": "execute_result"
    }
   ],
   "source": [
    "h=(90,70,50,30,30,101,23,76,60,20,20,20,20,30,40,50)\n",
    "h"
   ]
  },
  {
   "cell_type": "code",
   "execution_count": 2,
   "id": "086f95e2",
   "metadata": {},
   "outputs": [
    {
     "data": {
      "text/plain": [
       "tuple"
      ]
     },
     "execution_count": 2,
     "metadata": {},
     "output_type": "execute_result"
    }
   ],
   "source": [
    "type(h)"
   ]
  },
  {
   "cell_type": "code",
   "execution_count": 3,
   "id": "0d955731",
   "metadata": {},
   "outputs": [
    {
     "data": {
      "text/plain": [
       "4"
      ]
     },
     "execution_count": 3,
     "metadata": {},
     "output_type": "execute_result"
    }
   ],
   "source": [
    "h.count(20)"
   ]
  },
  {
   "cell_type": "code",
   "execution_count": 4,
   "id": "f0349a8a",
   "metadata": {},
   "outputs": [
    {
     "data": {
      "text/plain": [
       "3"
      ]
     },
     "execution_count": 4,
     "metadata": {},
     "output_type": "execute_result"
    }
   ],
   "source": [
    "h.index(30)"
   ]
  },
  {
   "cell_type": "code",
   "execution_count": 5,
   "id": "fb90bde5",
   "metadata": {},
   "outputs": [
    {
     "data": {
      "text/plain": [
       "(90, 70, 50)"
      ]
     },
     "execution_count": 5,
     "metadata": {},
     "output_type": "execute_result"
    }
   ],
   "source": [
    "h[0:3]"
   ]
  },
  {
   "cell_type": "code",
   "execution_count": 6,
   "id": "4217208a",
   "metadata": {},
   "outputs": [
    {
     "data": {
      "text/plain": [
       "{40, 50, 60, 70, 80}"
      ]
     },
     "execution_count": 6,
     "metadata": {},
     "output_type": "execute_result"
    }
   ],
   "source": [
    "s={40,50,60,70,80}\n",
    "s"
   ]
  },
  {
   "cell_type": "code",
   "execution_count": 7,
   "id": "1c027004",
   "metadata": {},
   "outputs": [
    {
     "data": {
      "text/plain": [
       "set"
      ]
     },
     "execution_count": 7,
     "metadata": {},
     "output_type": "execute_result"
    }
   ],
   "source": [
    "type(s)"
   ]
  },
  {
   "cell_type": "code",
   "execution_count": 10,
   "id": "6fcdde35",
   "metadata": {},
   "outputs": [
    {
     "data": {
      "text/plain": [
       "{40, 50, 60, 70, 80, 2210}"
      ]
     },
     "execution_count": 10,
     "metadata": {},
     "output_type": "execute_result"
    }
   ],
   "source": [
    "s.add(2210)\n",
    "s"
   ]
  },
  {
   "cell_type": "code",
   "execution_count": 11,
   "id": "96284231",
   "metadata": {},
   "outputs": [
    {
     "data": {
      "text/plain": [
       "{50, 60, 70, 80, 2210}"
      ]
     },
     "execution_count": 11,
     "metadata": {},
     "output_type": "execute_result"
    }
   ],
   "source": [
    "s.remove(40)\n",
    "s"
   ]
  },
  {
   "cell_type": "code",
   "execution_count": 12,
   "id": "b6dfd251",
   "metadata": {},
   "outputs": [
    {
     "data": {
      "text/plain": [
       "{10, 20, 30, 40, 60}"
      ]
     },
     "execution_count": 12,
     "metadata": {},
     "output_type": "execute_result"
    }
   ],
   "source": [
    "y={ 20, 10,30,40,60,30}\n",
    "y"
   ]
  },
  {
   "cell_type": "code",
   "execution_count": 13,
   "id": "32b10809",
   "metadata": {},
   "outputs": [
    {
     "data": {
      "text/plain": [
       "{50, 70, 80, 2210}"
      ]
     },
     "execution_count": 13,
     "metadata": {},
     "output_type": "execute_result"
    }
   ],
   "source": [
    "s.difference(y)"
   ]
  },
  {
   "cell_type": "code",
   "execution_count": 14,
   "id": "e79e3ae4",
   "metadata": {},
   "outputs": [
    {
     "data": {
      "text/plain": [
       "{60}"
      ]
     },
     "execution_count": 14,
     "metadata": {},
     "output_type": "execute_result"
    }
   ],
   "source": [
    "s.intersection(y)"
   ]
  },
  {
   "cell_type": "code",
   "execution_count": 15,
   "id": "2ba67e69",
   "metadata": {},
   "outputs": [
    {
     "data": {
      "text/plain": [
       "{10, 20, 30, 40, 50, 60, 70, 80, 2210}"
      ]
     },
     "execution_count": 15,
     "metadata": {},
     "output_type": "execute_result"
    }
   ],
   "source": [
    "s.union(y)"
   ]
  },
  {
   "cell_type": "code",
   "execution_count": 19,
   "id": "986bcd1f",
   "metadata": {},
   "outputs": [
    {
     "data": {
      "text/plain": [
       "{50, 60, 70, 80, 2210}"
      ]
     },
     "execution_count": 19,
     "metadata": {},
     "output_type": "execute_result"
    }
   ],
   "source": [
    "s"
   ]
  },
  {
   "cell_type": "code",
   "execution_count": 1,
   "id": "680187d2",
   "metadata": {},
   "outputs": [
    {
     "data": {
      "text/plain": [
       "{101: 4, 102: 7, 103: 2}"
      ]
     },
     "execution_count": 1,
     "metadata": {},
     "output_type": "execute_result"
    }
   ],
   "source": [
    "d={101:4,102:7,103:2}\n",
    "d"
   ]
  },
  {
   "cell_type": "code",
   "execution_count": 4,
   "id": "2434207a",
   "metadata": {},
   "outputs": [
    {
     "data": {
      "text/plain": [
       "(4, 2)"
      ]
     },
     "execution_count": 4,
     "metadata": {},
     "output_type": "execute_result"
    }
   ],
   "source": [
    "d[101],d[103]"
   ]
  },
  {
   "cell_type": "code",
   "execution_count": 8,
   "id": "b3495331",
   "metadata": {},
   "outputs": [],
   "source": [
    "d.update({102:99})"
   ]
  },
  {
   "cell_type": "code",
   "execution_count": 9,
   "id": "8a428742",
   "metadata": {},
   "outputs": [
    {
     "data": {
      "text/plain": [
       "{101: 4, 102: 99, 103: 2}"
      ]
     },
     "execution_count": 9,
     "metadata": {},
     "output_type": "execute_result"
    }
   ],
   "source": [
    "d"
   ]
  },
  {
   "cell_type": "code",
   "execution_count": 10,
   "id": "ded859c3",
   "metadata": {},
   "outputs": [],
   "source": [
    "d[101]=9"
   ]
  },
  {
   "cell_type": "code",
   "execution_count": 11,
   "id": "453faa39",
   "metadata": {},
   "outputs": [
    {
     "data": {
      "text/plain": [
       "{101: 9, 102: 99, 103: 2}"
      ]
     },
     "execution_count": 11,
     "metadata": {},
     "output_type": "execute_result"
    }
   ],
   "source": [
    "d"
   ]
  },
  {
   "cell_type": "code",
   "execution_count": 12,
   "id": "b2498d1f",
   "metadata": {},
   "outputs": [
    {
     "data": {
      "text/plain": [
       "99"
      ]
     },
     "execution_count": 12,
     "metadata": {},
     "output_type": "execute_result"
    }
   ],
   "source": [
    "d.get(102)"
   ]
  },
  {
   "cell_type": "code",
   "execution_count": 14,
   "id": "f810ed7c",
   "metadata": {},
   "outputs": [],
   "source": [
    "d.update({101:'india'})"
   ]
  },
  {
   "cell_type": "code",
   "execution_count": 15,
   "id": "15e030dc",
   "metadata": {},
   "outputs": [
    {
     "data": {
      "text/plain": [
       "{101: 'india', 102: 99, 103: 2}"
      ]
     },
     "execution_count": 15,
     "metadata": {},
     "output_type": "execute_result"
    }
   ],
   "source": [
    "d"
   ]
  },
  {
   "cell_type": "code",
   "execution_count": 16,
   "id": "9916dd47",
   "metadata": {},
   "outputs": [
    {
     "data": {
      "text/plain": [
       "'india'"
      ]
     },
     "execution_count": 16,
     "metadata": {},
     "output_type": "execute_result"
    }
   ],
   "source": [
    "d[101]"
   ]
  },
  {
   "cell_type": "code",
   "execution_count": 20,
   "id": "7f8cbbaf",
   "metadata": {},
   "outputs": [],
   "source": [
    "del d[101]"
   ]
  },
  {
   "cell_type": "code",
   "execution_count": 21,
   "id": "7a81e5cc",
   "metadata": {},
   "outputs": [
    {
     "data": {
      "text/plain": [
       "{102: 99, 103: 2}"
      ]
     },
     "execution_count": 21,
     "metadata": {},
     "output_type": "execute_result"
    }
   ],
   "source": [
    "d"
   ]
  },
  {
   "cell_type": "code",
   "execution_count": 24,
   "id": "9a7e77b5",
   "metadata": {},
   "outputs": [],
   "source": [
    "d.update({105:5000})"
   ]
  },
  {
   "cell_type": "code",
   "execution_count": 25,
   "id": "db55f954",
   "metadata": {},
   "outputs": [
    {
     "data": {
      "text/plain": [
       "{102: 99, 103: 2, 105: 5000}"
      ]
     },
     "execution_count": 25,
     "metadata": {},
     "output_type": "execute_result"
    }
   ],
   "source": [
    "d"
   ]
  },
  {
   "cell_type": "code",
   "execution_count": 26,
   "id": "e078f34d",
   "metadata": {},
   "outputs": [],
   "source": [
    "d[104]=[1000,2000,3000,4000,5000]"
   ]
  },
  {
   "cell_type": "code",
   "execution_count": 27,
   "id": "94a34d5c",
   "metadata": {},
   "outputs": [
    {
     "data": {
      "text/plain": [
       "{102: 99, 103: 2, 105: 5000, 104: [1000, 2000, 3000, 4000, 5000]}"
      ]
     },
     "execution_count": 27,
     "metadata": {},
     "output_type": "execute_result"
    }
   ],
   "source": [
    "d"
   ]
  },
  {
   "cell_type": "code",
   "execution_count": 28,
   "id": "c6242854",
   "metadata": {},
   "outputs": [
    {
     "data": {
      "text/plain": [
       "dict_keys([102, 103, 105, 104])"
      ]
     },
     "execution_count": 28,
     "metadata": {},
     "output_type": "execute_result"
    }
   ],
   "source": [
    "d.keys()"
   ]
  },
  {
   "cell_type": "code",
   "execution_count": 29,
   "id": "8e59a0fc",
   "metadata": {},
   "outputs": [
    {
     "data": {
      "text/plain": [
       "dict_values([99, 2, 5000, [1000, 2000, 3000, 4000, 5000]])"
      ]
     },
     "execution_count": 29,
     "metadata": {},
     "output_type": "execute_result"
    }
   ],
   "source": [
    "d.values()"
   ]
  },
  {
   "cell_type": "code",
   "execution_count": 30,
   "id": "3c288a11",
   "metadata": {},
   "outputs": [
    {
     "data": {
      "text/plain": [
       "dict_items([(102, 99), (103, 2), (105, 5000), (104, [1000, 2000, 3000, 4000, 5000])])"
      ]
     },
     "execution_count": 30,
     "metadata": {},
     "output_type": "execute_result"
    }
   ],
   "source": [
    "d.items()"
   ]
  },
  {
   "cell_type": "code",
   "execution_count": 39,
   "id": "eb3f373f",
   "metadata": {},
   "outputs": [],
   "source": [
    "# d.update({ 1000,5000,6000,7000})"
   ]
  },
  {
   "cell_type": "code",
   "execution_count": 40,
   "id": "332abdd5",
   "metadata": {},
   "outputs": [
    {
     "data": {
      "text/plain": [
       "{102: 99, 103: 2, 105: 5000, 104: [1000, 2000, 3000, 4000, 5000]}"
      ]
     },
     "execution_count": 40,
     "metadata": {},
     "output_type": "execute_result"
    }
   ],
   "source": [
    "d"
   ]
  },
  {
   "cell_type": "code",
   "execution_count": 41,
   "id": "9b75b9ca",
   "metadata": {},
   "outputs": [
    {
     "data": {
      "text/plain": [
       "[1000, 2000, 3000]"
      ]
     },
     "execution_count": 41,
     "metadata": {},
     "output_type": "execute_result"
    }
   ],
   "source": [
    "\n",
    "d[104][0:3]"
   ]
  },
  {
   "cell_type": "code",
   "execution_count": 42,
   "id": "95513690",
   "metadata": {},
   "outputs": [
    {
     "data": {
      "text/plain": [
       "dict"
      ]
     },
     "execution_count": 42,
     "metadata": {},
     "output_type": "execute_result"
    }
   ],
   "source": [
    "type(d)"
   ]
  },
  {
   "cell_type": "code",
   "execution_count": 43,
   "id": "7d31953c",
   "metadata": {},
   "outputs": [
    {
     "data": {
      "text/plain": [
       "int"
      ]
     },
     "execution_count": 43,
     "metadata": {},
     "output_type": "execute_result"
    }
   ],
   "source": [
    "type(d[102])"
   ]
  },
  {
   "cell_type": "code",
   "execution_count": 44,
   "id": "dda14120",
   "metadata": {},
   "outputs": [
    {
     "data": {
      "text/plain": [
       "list"
      ]
     },
     "execution_count": 44,
     "metadata": {},
     "output_type": "execute_result"
    }
   ],
   "source": [
    "type(d[104])"
   ]
  },
  {
   "cell_type": "code",
   "execution_count": 45,
   "id": "86403d78",
   "metadata": {},
   "outputs": [
    {
     "data": {
      "text/plain": [
       "{102: 99, 103: 2, 105: 5000, 104: [1000, 2000, 3000, 4000, 5000]}"
      ]
     },
     "execution_count": 45,
     "metadata": {},
     "output_type": "execute_result"
    }
   ],
   "source": [
    "d"
   ]
  },
  {
   "cell_type": "code",
   "execution_count": 50,
   "id": "eba6785f",
   "metadata": {},
   "outputs": [
    {
     "data": {
      "text/plain": [
       "int"
      ]
     },
     "execution_count": 50,
     "metadata": {},
     "output_type": "execute_result"
    }
   ],
   "source": [
    "type(d[105])"
   ]
  },
  {
   "cell_type": "code",
   "execution_count": 52,
   "id": "d08c7588",
   "metadata": {},
   "outputs": [
    {
     "data": {
      "text/plain": [
       "{102: 99, 103: 2, 105: 5000, 104: [1000, 2000, 3000, 4000, 5000]}"
      ]
     },
     "execution_count": 52,
     "metadata": {},
     "output_type": "execute_result"
    }
   ],
   "source": [
    "d"
   ]
  },
  {
   "cell_type": "code",
   "execution_count": 54,
   "id": "fb1b6610",
   "metadata": {},
   "outputs": [],
   "source": [
    "d[104].append(56)"
   ]
  },
  {
   "cell_type": "code",
   "execution_count": 55,
   "id": "92a7b04b",
   "metadata": {},
   "outputs": [
    {
     "data": {
      "text/plain": [
       "{102: 99, 103: 2, 105: 5000, 104: [1000, 2000, 3000, 4000, 5000, 56]}"
      ]
     },
     "execution_count": 55,
     "metadata": {},
     "output_type": "execute_result"
    }
   ],
   "source": [
    "d"
   ]
  },
  {
   "cell_type": "code",
   "execution_count": 60,
   "id": "8eddfa27",
   "metadata": {},
   "outputs": [
    {
     "data": {
      "text/plain": [
       "{102: 99,\n",
       " 103: (30, 40, 60, 50),\n",
       " 105: 5000,\n",
       " 104: [1000, 2000, 3000, 4000, 5000, 56]}"
      ]
     },
     "execution_count": 60,
     "metadata": {},
     "output_type": "execute_result"
    }
   ],
   "source": [
    "d.update({103:(30,40,60,50)})\n",
    "d"
   ]
  },
  {
   "cell_type": "code",
   "execution_count": 61,
   "id": "7158aa54",
   "metadata": {},
   "outputs": [
    {
     "data": {
      "text/plain": [
       "{102: 99,\n",
       " 103: (30, 40, 60, 50),\n",
       " 105: 5000,\n",
       " 104: [1000, 2000, 3000, 4000, 5000, 56],\n",
       " 101: {50: [7, 8, 9, 10], 'apple': (20, 10, 70, [90, 180, 270])}}"
      ]
     },
     "execution_count": 61,
     "metadata": {},
     "output_type": "execute_result"
    }
   ],
   "source": [
    "d[101]={50:[7,8,9,10],'apple':(20,10,70,[90,180,270])}\n",
    "d"
   ]
  },
  {
   "cell_type": "code",
   "execution_count": 65,
   "id": "a8347454",
   "metadata": {},
   "outputs": [
    {
     "data": {
      "text/plain": [
       "{102: 99,\n",
       " 103: (30, 40, 60, 50),\n",
       " 105: {'a': {30, 50, 70},\n",
       "  'b': (1000, 5000, 7000, 9000),\n",
       "  'c': ['K', {'L': [11, 22], 'M': (77, 88)}, 'N']},\n",
       " 104: [1000, 2000, 3000, 4000, 5000, 56],\n",
       " 101: {50: [7, 8, 9, 10], 'apple': (20, 10, 70, [90, 180, 270])}}"
      ]
     },
     "execution_count": 65,
     "metadata": {},
     "output_type": "execute_result"
    }
   ],
   "source": [
    "d[105]={'a':{30,50,70},'b':(1000,5000,7000,9000),'c':['K',{'L':[11,22],'M':(77,88)},'N']}\n",
    "d"
   ]
  },
  {
   "cell_type": "code",
   "execution_count": 66,
   "id": "2d05719c",
   "metadata": {},
   "outputs": [
    {
     "data": {
      "text/plain": [
       "{50: [7, 8, 9, 10], 'apple': (20, 10, 70, [90, 180, 270])}"
      ]
     },
     "execution_count": 66,
     "metadata": {},
     "output_type": "execute_result"
    }
   ],
   "source": [
    "d[101]"
   ]
  },
  {
   "cell_type": "code",
   "execution_count": 69,
   "id": "75d1930d",
   "metadata": {},
   "outputs": [
    {
     "data": {
      "text/plain": [
       "(20, 10, 70, [90, 180, 270])"
      ]
     },
     "execution_count": 69,
     "metadata": {},
     "output_type": "execute_result"
    }
   ],
   "source": [
    "d[101]['apple']"
   ]
  },
  {
   "cell_type": "code",
   "execution_count": 71,
   "id": "3c682c00",
   "metadata": {},
   "outputs": [
    {
     "data": {
      "text/plain": [
       "[7, 8, 9, 10]"
      ]
     },
     "execution_count": 71,
     "metadata": {},
     "output_type": "execute_result"
    }
   ],
   "source": [
    "d[101][50]"
   ]
  },
  {
   "cell_type": "code",
   "execution_count": 73,
   "id": "18631828",
   "metadata": {},
   "outputs": [
    {
     "data": {
      "text/plain": [
       "180"
      ]
     },
     "execution_count": 73,
     "metadata": {},
     "output_type": "execute_result"
    }
   ],
   "source": [
    "d[101]['apple'][3][1]"
   ]
  },
  {
   "cell_type": "markdown",
   "id": "3a8d90e1",
   "metadata": {},
   "source": [
    " "
   ]
  },
  {
   "cell_type": "code",
   "execution_count": 74,
   "id": "ad54e404",
   "metadata": {},
   "outputs": [
    {
     "data": {
      "text/plain": [
       "88"
      ]
     },
     "execution_count": 74,
     "metadata": {},
     "output_type": "execute_result"
    }
   ],
   "source": [
    "d[105]['c'][1]['M'][1]"
   ]
  },
  {
   "cell_type": "code",
   "execution_count": 1,
   "id": "ae39b83b",
   "metadata": {},
   "outputs": [
    {
     "name": "stdout",
     "output_type": "stream",
     "text": [
      "odd\n"
     ]
    }
   ],
   "source": [
    "x=9\n",
    "if x%2==0:\n",
    "    print(\"Even\")\n",
    "else:\n",
    "    print(\"odd\")"
   ]
  },
  {
   "cell_type": "code",
   "execution_count": 2,
   "id": "14f01b04",
   "metadata": {},
   "outputs": [
    {
     "data": {
      "text/plain": [
       "1"
      ]
     },
     "execution_count": 2,
     "metadata": {},
     "output_type": "execute_result"
    }
   ],
   "source": [
    "x%2"
   ]
  },
  {
   "cell_type": "code",
   "execution_count": 3,
   "id": "b9488c81",
   "metadata": {},
   "outputs": [
    {
     "data": {
      "text/plain": [
       "False"
      ]
     },
     "execution_count": 3,
     "metadata": {},
     "output_type": "execute_result"
    }
   ],
   "source": [
    "x%2==0"
   ]
  },
  {
   "cell_type": "code",
   "execution_count": 4,
   "id": "787120e5",
   "metadata": {},
   "outputs": [],
   "source": [
    "x=8"
   ]
  },
  {
   "cell_type": "code",
   "execution_count": 5,
   "id": "c11a2390",
   "metadata": {},
   "outputs": [
    {
     "data": {
      "text/plain": [
       "0"
      ]
     },
     "execution_count": 5,
     "metadata": {},
     "output_type": "execute_result"
    }
   ],
   "source": [
    "x%2"
   ]
  },
  {
   "cell_type": "code",
   "execution_count": 6,
   "id": "cefb3b4d",
   "metadata": {},
   "outputs": [
    {
     "data": {
      "text/plain": [
       "True"
      ]
     },
     "execution_count": 6,
     "metadata": {},
     "output_type": "execute_result"
    }
   ],
   "source": [
    "x%2==0"
   ]
  },
  {
   "cell_type": "code",
   "execution_count": 11,
   "id": "360f44a2",
   "metadata": {},
   "outputs": [
    {
     "data": {
      "text/plain": [
       "True"
      ]
     },
     "execution_count": 11,
     "metadata": {},
     "output_type": "execute_result"
    }
   ],
   "source": [
    "x%3==0"
   ]
  },
  {
   "cell_type": "code",
   "execution_count": 10,
   "id": "fe88d165",
   "metadata": {},
   "outputs": [
    {
     "name": "stdout",
     "output_type": "stream",
     "text": [
      "pos\n"
     ]
    }
   ],
   "source": [
    "x=6\n",
    "if x>0:\n",
    "    print('pos')\n",
    "elif x<0:\n",
    "    print('neg')\n",
    "else:\n",
    "    print('zero')"
   ]
  },
  {
   "cell_type": "code",
   "execution_count": 12,
   "id": "e72dd2c4",
   "metadata": {},
   "outputs": [
    {
     "name": "stdout",
     "output_type": "stream",
     "text": [
      "M\n"
     ]
    }
   ],
   "source": [
    "y=9\n",
    "if y>5:\n",
    "    print('M')\n",
    "elif y>4:\n",
    "    print('K')\n",
    "elif y>7:\n",
    "    print('H')\n",
    "else:\n",
    "    print('o')"
   ]
  },
  {
   "cell_type": "code",
   "execution_count": 13,
   "id": "77e2860f",
   "metadata": {},
   "outputs": [
    {
     "name": "stdout",
     "output_type": "stream",
     "text": [
      "M\n"
     ]
    }
   ],
   "source": [
    "y=10\n",
    "if y>5:\n",
    "    print('M')\n",
    "elif y>4:\n",
    "    print('K')\n",
    "elif y>7:\n",
    "    print('H')\n",
    "else:\n",
    "    print('o')"
   ]
  },
  {
   "cell_type": "code",
   "execution_count": 14,
   "id": "941ffae0",
   "metadata": {},
   "outputs": [
    {
     "data": {
      "text/plain": [
       "'Hyderabad'"
      ]
     },
     "execution_count": 14,
     "metadata": {},
     "output_type": "execute_result"
    }
   ],
   "source": [
    "t=\"Hyderabad\"\n",
    "t"
   ]
  },
  {
   "cell_type": "code",
   "execution_count": 15,
   "id": "6a2f070f",
   "metadata": {},
   "outputs": [
    {
     "data": {
      "text/plain": [
       "str"
      ]
     },
     "execution_count": 15,
     "metadata": {},
     "output_type": "execute_result"
    }
   ],
   "source": [
    "type(t)"
   ]
  },
  {
   "cell_type": "code",
   "execution_count": 16,
   "id": "9621f8a9",
   "metadata": {},
   "outputs": [
    {
     "data": {
      "text/plain": [
       "'HYDERABAD'"
      ]
     },
     "execution_count": 16,
     "metadata": {},
     "output_type": "execute_result"
    }
   ],
   "source": [
    "t.upper()"
   ]
  },
  {
   "cell_type": "code",
   "execution_count": 18,
   "id": "c415ff98",
   "metadata": {},
   "outputs": [
    {
     "data": {
      "text/plain": [
       "True"
      ]
     },
     "execution_count": 18,
     "metadata": {},
     "output_type": "execute_result"
    }
   ],
   "source": [
    "t.isalpha()"
   ]
  },
  {
   "cell_type": "code",
   "execution_count": 28,
   "id": "0723bf03",
   "metadata": {},
   "outputs": [
    {
     "data": {
      "text/plain": [
       "'Tan'"
      ]
     },
     "execution_count": 28,
     "metadata": {},
     "output_type": "execute_result"
    }
   ],
   "source": [
    "x='telangana'\n",
    "x='Tiger'\n",
    "x='Tan'\n",
    "x"
   ]
  },
  {
   "cell_type": "code",
   "execution_count": 23,
   "id": "7f07bfdb",
   "metadata": {},
   "outputs": [
    {
     "data": {
      "text/plain": [
       "'Mumbai'"
      ]
     },
     "execution_count": 23,
     "metadata": {},
     "output_type": "execute_result"
    }
   ],
   "source": [
    "x='Lion'\n",
    "x='Mumbai'\n",
    "x"
   ]
  },
  {
   "cell_type": "code",
   "execution_count": 25,
   "id": "d3111455",
   "metadata": {},
   "outputs": [
    {
     "data": {
      "text/plain": [
       "str"
      ]
     },
     "execution_count": 25,
     "metadata": {},
     "output_type": "execute_result"
    }
   ],
   "source": [
    "type(t)"
   ]
  },
  {
   "cell_type": "code",
   "execution_count": 29,
   "id": "f62d51e3",
   "metadata": {},
   "outputs": [
    {
     "name": "stdout",
     "output_type": "stream",
     "text": [
      "Yes\n"
     ]
    }
   ],
   "source": [
    "x='telangana'\n",
    "if x[0]=='t'or x[0]=='T':\n",
    "    print('Yes')\n",
    "else:\n",
    "    print('No')"
   ]
  },
  {
   "cell_type": "code",
   "execution_count": 33,
   "id": "6212660c",
   "metadata": {},
   "outputs": [],
   "source": [
    "x='apple'"
   ]
  },
  {
   "cell_type": "code",
   "execution_count": 38,
   "id": "fc0531ef",
   "metadata": {},
   "outputs": [
    {
     "name": "stdout",
     "output_type": "stream",
     "text": [
      "No\n"
     ]
    }
   ],
   "source": [
    "x='apple'\n",
    "if x[0]=='s' or x[0]=='S':\n",
    "   print('Yes')\n",
    "else:\n",
    "    print('No')"
   ]
  },
  {
   "cell_type": "code",
   "execution_count": 39,
   "id": "e6ad68c8",
   "metadata": {},
   "outputs": [
    {
     "data": {
      "text/plain": [
       "False"
      ]
     },
     "execution_count": 39,
     "metadata": {},
     "output_type": "execute_result"
    }
   ],
   "source": [
    "x[0].lower()=='t'"
   ]
  },
  {
   "cell_type": "code",
   "execution_count": 40,
   "id": "7a73d930",
   "metadata": {},
   "outputs": [
    {
     "name": "stdout",
     "output_type": "stream",
     "text": [
      "Yes\n"
     ]
    }
   ],
   "source": [
    "x='tiger'\n",
    "if x[0]=='t'or x[0]=='T':\n",
    "    print('Yes')\n",
    "else:\n",
    "    print('No')"
   ]
  },
  {
   "cell_type": "code",
   "execution_count": 43,
   "id": "619df54e",
   "metadata": {},
   "outputs": [
    {
     "name": "stdout",
     "output_type": "stream",
     "text": [
      "No\n"
     ]
    }
   ],
   "source": [
    "if x[0]=='s'or x[0]=='S' or x[0]=='m'or x[0]=='M' or x[0]=='h'or x[0]=='h':\n",
    "    print('Yes')\n",
    "else:\n",
    "    print('No')"
   ]
  },
  {
   "cell_type": "code",
   "execution_count": 44,
   "id": "4da5e14e",
   "metadata": {},
   "outputs": [
    {
     "name": "stdout",
     "output_type": "stream",
     "text": [
      "No\n"
     ]
    }
   ],
   "source": [
    "if x[0].lower() in ('s','m','h'):\n",
    "    print('Yes')\n",
    "else:\n",
    "    print(\"No\")"
   ]
  },
  {
   "cell_type": "code",
   "execution_count": null,
   "id": "3174fa54",
   "metadata": {},
   "outputs": [],
   "source": []
  }
 ],
 "metadata": {
  "kernelspec": {
   "display_name": "Python 3 (ipykernel)",
   "language": "python",
   "name": "python3"
  },
  "language_info": {
   "codemirror_mode": {
    "name": "ipython",
    "version": 3
   },
   "file_extension": ".py",
   "mimetype": "text/x-python",
   "name": "python",
   "nbconvert_exporter": "python",
   "pygments_lexer": "ipython3",
   "version": "3.11.5"
  }
 },
 "nbformat": 4,
 "nbformat_minor": 5
}
